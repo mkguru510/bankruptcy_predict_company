{
  "nbformat": 4,
  "nbformat_minor": 0,
  "metadata": {
    "colab": {
      "name": "acc.ipynb",
      "provenance": [],
      "collapsed_sections": []
    },
    "kernelspec": {
      "name": "python3",
      "display_name": "Python 3"
    },
    "language_info": {
      "name": "python"
    },
    "accelerator": "TPU",
    "gpuClass": "standard"
  },
  "cells": [
    {
      "cell_type": "code",
      "execution_count": 1,
      "metadata": {
        "id": "bMfEnCZhEJbG"
      },
      "outputs": [],
      "source": [
        "def warn(*args, **kwargs):\n",
        "    pass\n",
        "\n",
        "\n",
        "import warnings\n",
        "\n",
        "warnings.warn = warn\n",
        "warnings.filterwarnings(\"ignore\")\n",
        "warnings.filterwarnings(\"ignore\", category=DeprecationWarning)\n",
        "\n",
        "import numpy as np\n",
        "import pandas as pd\n",
        "from sklearn.impute import SimpleImputer\n",
        "from sklearn.model_selection import KFold\n",
        "from scipy.io import arff\n",
        "import random\n",
        "from collections import OrderedDict\n",
        "import seaborn as sns\n",
        "from sklearn.tree import DecisionTreeClassifier\n",
        "from sklearn.ensemble import BaggingClassifier\n",
        "from sklearn.metrics import accuracy_score\n",
        "from sklearn.metrics import precision_score\n",
        "from sklearn.metrics import recall_score\n",
        "import matplotlib.pyplot as plt\n",
        "from sklearn.metrics import confusion_matrix\n",
        "from tabulate import tabulate"
      ]
    },
    {
      "cell_type": "code",
      "source": [
        "num_files = 5  # 5 files for company information with class labels\n",
        "load_bankruptcy_arff = [arff.loadarff('/content/drive/MyDrive/Colab_Notebooks/acc_project/' + str(i + 1) + 'year.arff') for i in range(num_files)]\n",
        "df = [pd.DataFrame(data_i_year[0]) for data_i_year in load_bankruptcy_arff]"
      ],
      "metadata": {
        "id": "fFubVr8ZES21"
      },
      "execution_count": 2,
      "outputs": []
    },
    {
      "cell_type": "code",
      "source": [
        "def set_column_names(df):\n",
        "    cols = ['X' + str(i + 1) for i in range(len(df[0].columns) - 1)]  # x1 to X64\n",
        "    cols.append('Y')\n",
        "    for df in df:\n",
        "        df.columns = cols\n",
        "set_column_names(df)"
      ],
      "metadata": {
        "id": "XhDeOJkrEVmj"
      },
      "execution_count": 3,
      "outputs": []
    },
    {
      "cell_type": "code",
      "source": [
        "def labels_to_binary(df):\n",
        "    for i in range(len(df)):\n",
        "        col = getattr(df[i], 'Y')\n",
        "        df[i]['Y'] = col.astype(int)\n",
        "labels_to_binary(df)"
      ],
      "metadata": {
        "id": "GlKTW_gyEcMD"
      },
      "execution_count": 4,
      "outputs": []
    },
    {
      "cell_type": "code",
      "source": [
        "for i in range(len(df)):\n",
        "  df[i]['year'] = i + 1"
      ],
      "metadata": {
        "id": "8yletMisEiVT"
      },
      "execution_count": 5,
      "outputs": []
    },
    {
      "cell_type": "code",
      "source": [
        "df = pd.concat(df)"
      ],
      "metadata": {
        "id": "rBXFDa2xFwiU"
      },
      "execution_count": 6,
      "outputs": []
    },
    {
      "cell_type": "code",
      "source": [
        "print(df.isnull().values.any())\n",
        "print((df.isnull(). sum() * 100 / len(df)))"
      ],
      "metadata": {
        "colab": {
          "base_uri": "https://localhost:8080/"
        },
        "id": "Gv5kl_I3GHPT",
        "outputId": "7aac8d89-9bdd-4192-c21d-4e6639d73efb"
      },
      "execution_count": 7,
      "outputs": [
        {
          "output_type": "stream",
          "name": "stdout",
          "text": [
            "True\n",
            "X1      0.018431\n",
            "X2      0.018431\n",
            "X3      0.018431\n",
            "X4      0.308720\n",
            "X5      0.205046\n",
            "          ...   \n",
            "X62     0.292593\n",
            "X63     0.308720\n",
            "X64     1.870752\n",
            "Y       0.000000\n",
            "year    0.000000\n",
            "Length: 66, dtype: float64\n"
          ]
        }
      ]
    },
    {
      "cell_type": "code",
      "source": [
        "df['bankruptcy_after_years'] = np.where(df.Y == '0', 0, df.Y *df.year)"
      ],
      "metadata": {
        "id": "ks0QSOLrbowa"
      },
      "execution_count": 8,
      "outputs": []
    },
    {
      "cell_type": "code",
      "source": [
        "df"
      ],
      "metadata": {
        "colab": {
          "base_uri": "https://localhost:8080/",
          "height": 487
        },
        "id": "ub8QDIpAgJQn",
        "outputId": "7fa377d8-44a6-4283-c721-aedd2400e818"
      },
      "execution_count": 9,
      "outputs": [
        {
          "output_type": "execute_result",
          "data": {
            "text/plain": [
              "            X1       X2        X3       X4        X5       X6        X7  \\\n",
              "0     0.200550  0.37951  0.396410  2.04720   32.3510  0.38825  0.249760   \n",
              "1     0.209120  0.49988  0.472250  1.94470   14.7860  0.00000  0.258340   \n",
              "2     0.248660  0.69592  0.267130  1.55480   -1.1523  0.00000  0.309060   \n",
              "3     0.081483  0.30734  0.458790  2.49280   51.9520  0.14988  0.092704   \n",
              "4     0.187320  0.61323  0.229600  1.40630   -7.3128  0.18732  0.187320   \n",
              "...        ...      ...       ...      ...       ...      ...       ...   \n",
              "5905  0.012898  0.70621  0.038857  1.17220  -18.9070  0.00000  0.013981   \n",
              "5906 -0.578050  0.96702 -0.800850  0.16576  -67.3650 -0.57805 -0.578050   \n",
              "5907 -0.179050  1.25530 -0.275990  0.74554 -120.4400 -0.17905 -0.154930   \n",
              "5908 -0.108860  0.74394  0.015449  1.08780  -17.0030 -0.10886 -0.109180   \n",
              "5909 -0.105370  0.53629 -0.045578  0.91478  -56.0680 -0.10537 -0.109940   \n",
              "\n",
              "           X8       X9       X10  ...      X58       X59       X60      X61  \\\n",
              "0     1.33050  1.13890  0.504940  ...  0.87804  0.001924    8.4160   5.1372   \n",
              "1     0.99601  1.69960  0.497880  ...  0.85300  0.000000    4.1486   3.2732   \n",
              "2     0.43695  1.30900  0.304080  ...  0.76599  0.694840    4.9909   3.9510   \n",
              "3     1.86610  1.05710  0.573530  ...  0.94598  0.000000    4.5746   3.6147   \n",
              "4     0.63070  1.15590  0.386770  ...  0.86515  0.124440    6.3985   4.3158   \n",
              "...       ...      ...       ...  ...      ...       ...       ...      ...   \n",
              "5905  0.41600  1.67680  0.293790  ...  1.01220  1.259400   13.4720  12.4320   \n",
              "5906 -0.40334  0.93979 -0.390040  ...  1.06410 -0.018084  110.7200  44.7590   \n",
              "5907 -0.26018  1.17490 -0.326590  ...  0.85112 -0.522430    9.8526   3.4892   \n",
              "5908  0.12531  0.84516  0.093224  ...  1.18320  6.092400   13.8860   6.0769   \n",
              "5909  0.86460  0.95040  0.463670  ...  1.05220  0.003196    7.7332   4.7174   \n",
              "\n",
              "          X62     X63       X64  Y  year  bankruptcy_after_years  \n",
              "0      82.658  4.4158   7.42770  0     1                       0  \n",
              "1     107.350  3.4000  60.98700  0     1                       0  \n",
              "2     134.270  2.7185   5.20780  0     1                       0  \n",
              "3      86.435  4.2228   5.54970  0     1                       0  \n",
              "4     127.210  2.8692   7.89800  0     1                       0  \n",
              "...       ...     ...       ... ..   ...                     ...  \n",
              "5905   49.117  7.4313   2.27990  1     5                       5  \n",
              "5906   81.220  4.4940   5.13050  1     5                       5  \n",
              "5907  207.870  1.7559   9.95270  1     5                       5  \n",
              "5908   83.122  4.3911   0.95575  1     5                       5  \n",
              "5909  136.850  2.6672   2.79270  1     5                       5  \n",
              "\n",
              "[43405 rows x 67 columns]"
            ],
            "text/html": [
              "\n",
              "  <div id=\"df-41253ee1-26bd-4b3d-b1cc-c3a575168f1d\">\n",
              "    <div class=\"colab-df-container\">\n",
              "      <div>\n",
              "<style scoped>\n",
              "    .dataframe tbody tr th:only-of-type {\n",
              "        vertical-align: middle;\n",
              "    }\n",
              "\n",
              "    .dataframe tbody tr th {\n",
              "        vertical-align: top;\n",
              "    }\n",
              "\n",
              "    .dataframe thead th {\n",
              "        text-align: right;\n",
              "    }\n",
              "</style>\n",
              "<table border=\"1\" class=\"dataframe\">\n",
              "  <thead>\n",
              "    <tr style=\"text-align: right;\">\n",
              "      <th></th>\n",
              "      <th>X1</th>\n",
              "      <th>X2</th>\n",
              "      <th>X3</th>\n",
              "      <th>X4</th>\n",
              "      <th>X5</th>\n",
              "      <th>X6</th>\n",
              "      <th>X7</th>\n",
              "      <th>X8</th>\n",
              "      <th>X9</th>\n",
              "      <th>X10</th>\n",
              "      <th>...</th>\n",
              "      <th>X58</th>\n",
              "      <th>X59</th>\n",
              "      <th>X60</th>\n",
              "      <th>X61</th>\n",
              "      <th>X62</th>\n",
              "      <th>X63</th>\n",
              "      <th>X64</th>\n",
              "      <th>Y</th>\n",
              "      <th>year</th>\n",
              "      <th>bankruptcy_after_years</th>\n",
              "    </tr>\n",
              "  </thead>\n",
              "  <tbody>\n",
              "    <tr>\n",
              "      <th>0</th>\n",
              "      <td>0.200550</td>\n",
              "      <td>0.37951</td>\n",
              "      <td>0.396410</td>\n",
              "      <td>2.04720</td>\n",
              "      <td>32.3510</td>\n",
              "      <td>0.38825</td>\n",
              "      <td>0.249760</td>\n",
              "      <td>1.33050</td>\n",
              "      <td>1.13890</td>\n",
              "      <td>0.504940</td>\n",
              "      <td>...</td>\n",
              "      <td>0.87804</td>\n",
              "      <td>0.001924</td>\n",
              "      <td>8.4160</td>\n",
              "      <td>5.1372</td>\n",
              "      <td>82.658</td>\n",
              "      <td>4.4158</td>\n",
              "      <td>7.42770</td>\n",
              "      <td>0</td>\n",
              "      <td>1</td>\n",
              "      <td>0</td>\n",
              "    </tr>\n",
              "    <tr>\n",
              "      <th>1</th>\n",
              "      <td>0.209120</td>\n",
              "      <td>0.49988</td>\n",
              "      <td>0.472250</td>\n",
              "      <td>1.94470</td>\n",
              "      <td>14.7860</td>\n",
              "      <td>0.00000</td>\n",
              "      <td>0.258340</td>\n",
              "      <td>0.99601</td>\n",
              "      <td>1.69960</td>\n",
              "      <td>0.497880</td>\n",
              "      <td>...</td>\n",
              "      <td>0.85300</td>\n",
              "      <td>0.000000</td>\n",
              "      <td>4.1486</td>\n",
              "      <td>3.2732</td>\n",
              "      <td>107.350</td>\n",
              "      <td>3.4000</td>\n",
              "      <td>60.98700</td>\n",
              "      <td>0</td>\n",
              "      <td>1</td>\n",
              "      <td>0</td>\n",
              "    </tr>\n",
              "    <tr>\n",
              "      <th>2</th>\n",
              "      <td>0.248660</td>\n",
              "      <td>0.69592</td>\n",
              "      <td>0.267130</td>\n",
              "      <td>1.55480</td>\n",
              "      <td>-1.1523</td>\n",
              "      <td>0.00000</td>\n",
              "      <td>0.309060</td>\n",
              "      <td>0.43695</td>\n",
              "      <td>1.30900</td>\n",
              "      <td>0.304080</td>\n",
              "      <td>...</td>\n",
              "      <td>0.76599</td>\n",
              "      <td>0.694840</td>\n",
              "      <td>4.9909</td>\n",
              "      <td>3.9510</td>\n",
              "      <td>134.270</td>\n",
              "      <td>2.7185</td>\n",
              "      <td>5.20780</td>\n",
              "      <td>0</td>\n",
              "      <td>1</td>\n",
              "      <td>0</td>\n",
              "    </tr>\n",
              "    <tr>\n",
              "      <th>3</th>\n",
              "      <td>0.081483</td>\n",
              "      <td>0.30734</td>\n",
              "      <td>0.458790</td>\n",
              "      <td>2.49280</td>\n",
              "      <td>51.9520</td>\n",
              "      <td>0.14988</td>\n",
              "      <td>0.092704</td>\n",
              "      <td>1.86610</td>\n",
              "      <td>1.05710</td>\n",
              "      <td>0.573530</td>\n",
              "      <td>...</td>\n",
              "      <td>0.94598</td>\n",
              "      <td>0.000000</td>\n",
              "      <td>4.5746</td>\n",
              "      <td>3.6147</td>\n",
              "      <td>86.435</td>\n",
              "      <td>4.2228</td>\n",
              "      <td>5.54970</td>\n",
              "      <td>0</td>\n",
              "      <td>1</td>\n",
              "      <td>0</td>\n",
              "    </tr>\n",
              "    <tr>\n",
              "      <th>4</th>\n",
              "      <td>0.187320</td>\n",
              "      <td>0.61323</td>\n",
              "      <td>0.229600</td>\n",
              "      <td>1.40630</td>\n",
              "      <td>-7.3128</td>\n",
              "      <td>0.18732</td>\n",
              "      <td>0.187320</td>\n",
              "      <td>0.63070</td>\n",
              "      <td>1.15590</td>\n",
              "      <td>0.386770</td>\n",
              "      <td>...</td>\n",
              "      <td>0.86515</td>\n",
              "      <td>0.124440</td>\n",
              "      <td>6.3985</td>\n",
              "      <td>4.3158</td>\n",
              "      <td>127.210</td>\n",
              "      <td>2.8692</td>\n",
              "      <td>7.89800</td>\n",
              "      <td>0</td>\n",
              "      <td>1</td>\n",
              "      <td>0</td>\n",
              "    </tr>\n",
              "    <tr>\n",
              "      <th>...</th>\n",
              "      <td>...</td>\n",
              "      <td>...</td>\n",
              "      <td>...</td>\n",
              "      <td>...</td>\n",
              "      <td>...</td>\n",
              "      <td>...</td>\n",
              "      <td>...</td>\n",
              "      <td>...</td>\n",
              "      <td>...</td>\n",
              "      <td>...</td>\n",
              "      <td>...</td>\n",
              "      <td>...</td>\n",
              "      <td>...</td>\n",
              "      <td>...</td>\n",
              "      <td>...</td>\n",
              "      <td>...</td>\n",
              "      <td>...</td>\n",
              "      <td>...</td>\n",
              "      <td>...</td>\n",
              "      <td>...</td>\n",
              "      <td>...</td>\n",
              "    </tr>\n",
              "    <tr>\n",
              "      <th>5905</th>\n",
              "      <td>0.012898</td>\n",
              "      <td>0.70621</td>\n",
              "      <td>0.038857</td>\n",
              "      <td>1.17220</td>\n",
              "      <td>-18.9070</td>\n",
              "      <td>0.00000</td>\n",
              "      <td>0.013981</td>\n",
              "      <td>0.41600</td>\n",
              "      <td>1.67680</td>\n",
              "      <td>0.293790</td>\n",
              "      <td>...</td>\n",
              "      <td>1.01220</td>\n",
              "      <td>1.259400</td>\n",
              "      <td>13.4720</td>\n",
              "      <td>12.4320</td>\n",
              "      <td>49.117</td>\n",
              "      <td>7.4313</td>\n",
              "      <td>2.27990</td>\n",
              "      <td>1</td>\n",
              "      <td>5</td>\n",
              "      <td>5</td>\n",
              "    </tr>\n",
              "    <tr>\n",
              "      <th>5906</th>\n",
              "      <td>-0.578050</td>\n",
              "      <td>0.96702</td>\n",
              "      <td>-0.800850</td>\n",
              "      <td>0.16576</td>\n",
              "      <td>-67.3650</td>\n",
              "      <td>-0.57805</td>\n",
              "      <td>-0.578050</td>\n",
              "      <td>-0.40334</td>\n",
              "      <td>0.93979</td>\n",
              "      <td>-0.390040</td>\n",
              "      <td>...</td>\n",
              "      <td>1.06410</td>\n",
              "      <td>-0.018084</td>\n",
              "      <td>110.7200</td>\n",
              "      <td>44.7590</td>\n",
              "      <td>81.220</td>\n",
              "      <td>4.4940</td>\n",
              "      <td>5.13050</td>\n",
              "      <td>1</td>\n",
              "      <td>5</td>\n",
              "      <td>5</td>\n",
              "    </tr>\n",
              "    <tr>\n",
              "      <th>5907</th>\n",
              "      <td>-0.179050</td>\n",
              "      <td>1.25530</td>\n",
              "      <td>-0.275990</td>\n",
              "      <td>0.74554</td>\n",
              "      <td>-120.4400</td>\n",
              "      <td>-0.17905</td>\n",
              "      <td>-0.154930</td>\n",
              "      <td>-0.26018</td>\n",
              "      <td>1.17490</td>\n",
              "      <td>-0.326590</td>\n",
              "      <td>...</td>\n",
              "      <td>0.85112</td>\n",
              "      <td>-0.522430</td>\n",
              "      <td>9.8526</td>\n",
              "      <td>3.4892</td>\n",
              "      <td>207.870</td>\n",
              "      <td>1.7559</td>\n",
              "      <td>9.95270</td>\n",
              "      <td>1</td>\n",
              "      <td>5</td>\n",
              "      <td>5</td>\n",
              "    </tr>\n",
              "    <tr>\n",
              "      <th>5908</th>\n",
              "      <td>-0.108860</td>\n",
              "      <td>0.74394</td>\n",
              "      <td>0.015449</td>\n",
              "      <td>1.08780</td>\n",
              "      <td>-17.0030</td>\n",
              "      <td>-0.10886</td>\n",
              "      <td>-0.109180</td>\n",
              "      <td>0.12531</td>\n",
              "      <td>0.84516</td>\n",
              "      <td>0.093224</td>\n",
              "      <td>...</td>\n",
              "      <td>1.18320</td>\n",
              "      <td>6.092400</td>\n",
              "      <td>13.8860</td>\n",
              "      <td>6.0769</td>\n",
              "      <td>83.122</td>\n",
              "      <td>4.3911</td>\n",
              "      <td>0.95575</td>\n",
              "      <td>1</td>\n",
              "      <td>5</td>\n",
              "      <td>5</td>\n",
              "    </tr>\n",
              "    <tr>\n",
              "      <th>5909</th>\n",
              "      <td>-0.105370</td>\n",
              "      <td>0.53629</td>\n",
              "      <td>-0.045578</td>\n",
              "      <td>0.91478</td>\n",
              "      <td>-56.0680</td>\n",
              "      <td>-0.10537</td>\n",
              "      <td>-0.109940</td>\n",
              "      <td>0.86460</td>\n",
              "      <td>0.95040</td>\n",
              "      <td>0.463670</td>\n",
              "      <td>...</td>\n",
              "      <td>1.05220</td>\n",
              "      <td>0.003196</td>\n",
              "      <td>7.7332</td>\n",
              "      <td>4.7174</td>\n",
              "      <td>136.850</td>\n",
              "      <td>2.6672</td>\n",
              "      <td>2.79270</td>\n",
              "      <td>1</td>\n",
              "      <td>5</td>\n",
              "      <td>5</td>\n",
              "    </tr>\n",
              "  </tbody>\n",
              "</table>\n",
              "<p>43405 rows × 67 columns</p>\n",
              "</div>\n",
              "      <button class=\"colab-df-convert\" onclick=\"convertToInteractive('df-41253ee1-26bd-4b3d-b1cc-c3a575168f1d')\"\n",
              "              title=\"Convert this dataframe to an interactive table.\"\n",
              "              style=\"display:none;\">\n",
              "        \n",
              "  <svg xmlns=\"http://www.w3.org/2000/svg\" height=\"24px\"viewBox=\"0 0 24 24\"\n",
              "       width=\"24px\">\n",
              "    <path d=\"M0 0h24v24H0V0z\" fill=\"none\"/>\n",
              "    <path d=\"M18.56 5.44l.94 2.06.94-2.06 2.06-.94-2.06-.94-.94-2.06-.94 2.06-2.06.94zm-11 1L8.5 8.5l.94-2.06 2.06-.94-2.06-.94L8.5 2.5l-.94 2.06-2.06.94zm10 10l.94 2.06.94-2.06 2.06-.94-2.06-.94-.94-2.06-.94 2.06-2.06.94z\"/><path d=\"M17.41 7.96l-1.37-1.37c-.4-.4-.92-.59-1.43-.59-.52 0-1.04.2-1.43.59L10.3 9.45l-7.72 7.72c-.78.78-.78 2.05 0 2.83L4 21.41c.39.39.9.59 1.41.59.51 0 1.02-.2 1.41-.59l7.78-7.78 2.81-2.81c.8-.78.8-2.07 0-2.86zM5.41 20L4 18.59l7.72-7.72 1.47 1.35L5.41 20z\"/>\n",
              "  </svg>\n",
              "      </button>\n",
              "      \n",
              "  <style>\n",
              "    .colab-df-container {\n",
              "      display:flex;\n",
              "      flex-wrap:wrap;\n",
              "      gap: 12px;\n",
              "    }\n",
              "\n",
              "    .colab-df-convert {\n",
              "      background-color: #E8F0FE;\n",
              "      border: none;\n",
              "      border-radius: 50%;\n",
              "      cursor: pointer;\n",
              "      display: none;\n",
              "      fill: #1967D2;\n",
              "      height: 32px;\n",
              "      padding: 0 0 0 0;\n",
              "      width: 32px;\n",
              "    }\n",
              "\n",
              "    .colab-df-convert:hover {\n",
              "      background-color: #E2EBFA;\n",
              "      box-shadow: 0px 1px 2px rgba(60, 64, 67, 0.3), 0px 1px 3px 1px rgba(60, 64, 67, 0.15);\n",
              "      fill: #174EA6;\n",
              "    }\n",
              "\n",
              "    [theme=dark] .colab-df-convert {\n",
              "      background-color: #3B4455;\n",
              "      fill: #D2E3FC;\n",
              "    }\n",
              "\n",
              "    [theme=dark] .colab-df-convert:hover {\n",
              "      background-color: #434B5C;\n",
              "      box-shadow: 0px 1px 3px 1px rgba(0, 0, 0, 0.15);\n",
              "      filter: drop-shadow(0px 1px 2px rgba(0, 0, 0, 0.3));\n",
              "      fill: #FFFFFF;\n",
              "    }\n",
              "  </style>\n",
              "\n",
              "      <script>\n",
              "        const buttonEl =\n",
              "          document.querySelector('#df-41253ee1-26bd-4b3d-b1cc-c3a575168f1d button.colab-df-convert');\n",
              "        buttonEl.style.display =\n",
              "          google.colab.kernel.accessAllowed ? 'block' : 'none';\n",
              "\n",
              "        async function convertToInteractive(key) {\n",
              "          const element = document.querySelector('#df-41253ee1-26bd-4b3d-b1cc-c3a575168f1d');\n",
              "          const dataTable =\n",
              "            await google.colab.kernel.invokeFunction('convertToInteractive',\n",
              "                                                     [key], {});\n",
              "          if (!dataTable) return;\n",
              "\n",
              "          const docLinkHtml = 'Like what you see? Visit the ' +\n",
              "            '<a target=\"_blank\" href=https://colab.research.google.com/notebooks/data_table.ipynb>data table notebook</a>'\n",
              "            + ' to learn more about interactive tables.';\n",
              "          element.innerHTML = '';\n",
              "          dataTable['output_type'] = 'display_data';\n",
              "          await google.colab.output.renderOutput(dataTable, element);\n",
              "          const docLink = document.createElement('div');\n",
              "          docLink.innerHTML = docLinkHtml;\n",
              "          element.appendChild(docLink);\n",
              "        }\n",
              "      </script>\n",
              "    </div>\n",
              "  </div>\n",
              "  "
            ]
          },
          "metadata": {},
          "execution_count": 9
        }
      ]
    },
    {
      "cell_type": "code",
      "source": [
        "percent_missing = df.isnull().sum() / df.shape[0] * 100.00\n",
        "missing_value_df = pd.DataFrame({'column_name': df.columns,\n",
        "                                 'percent_missing': percent_missing})\n",
        "missing_value_df.sort_values('percent_missing', inplace=True, ascending=False)\n",
        "missing_value_df"
      ],
      "metadata": {
        "colab": {
          "base_uri": "https://localhost:8080/",
          "height": 424
        },
        "id": "bhaPcghqHND0",
        "outputId": "d2143b5e-d9d2-4c0d-9e04-94b8917f8f11"
      },
      "execution_count": 10,
      "outputs": [
        {
          "output_type": "execute_result",
          "data": {
            "text/plain": [
              "                                   column_name  percent_missing\n",
              "X37                                        X37        43.736897\n",
              "X21                                        X21        13.486925\n",
              "X27                                        X27         6.367930\n",
              "X60                                        X60         4.957954\n",
              "X45                                        X45         4.946435\n",
              "...                                        ...              ...\n",
              "X59                                        X59         0.016127\n",
              "X55                                        X55         0.002304\n",
              "Y                                            Y         0.000000\n",
              "year                                      year         0.000000\n",
              "bankruptcy_after_years  bankruptcy_after_years         0.000000\n",
              "\n",
              "[67 rows x 2 columns]"
            ],
            "text/html": [
              "\n",
              "  <div id=\"df-833faef8-96b3-4d10-ba3d-ba3ead6758af\">\n",
              "    <div class=\"colab-df-container\">\n",
              "      <div>\n",
              "<style scoped>\n",
              "    .dataframe tbody tr th:only-of-type {\n",
              "        vertical-align: middle;\n",
              "    }\n",
              "\n",
              "    .dataframe tbody tr th {\n",
              "        vertical-align: top;\n",
              "    }\n",
              "\n",
              "    .dataframe thead th {\n",
              "        text-align: right;\n",
              "    }\n",
              "</style>\n",
              "<table border=\"1\" class=\"dataframe\">\n",
              "  <thead>\n",
              "    <tr style=\"text-align: right;\">\n",
              "      <th></th>\n",
              "      <th>column_name</th>\n",
              "      <th>percent_missing</th>\n",
              "    </tr>\n",
              "  </thead>\n",
              "  <tbody>\n",
              "    <tr>\n",
              "      <th>X37</th>\n",
              "      <td>X37</td>\n",
              "      <td>43.736897</td>\n",
              "    </tr>\n",
              "    <tr>\n",
              "      <th>X21</th>\n",
              "      <td>X21</td>\n",
              "      <td>13.486925</td>\n",
              "    </tr>\n",
              "    <tr>\n",
              "      <th>X27</th>\n",
              "      <td>X27</td>\n",
              "      <td>6.367930</td>\n",
              "    </tr>\n",
              "    <tr>\n",
              "      <th>X60</th>\n",
              "      <td>X60</td>\n",
              "      <td>4.957954</td>\n",
              "    </tr>\n",
              "    <tr>\n",
              "      <th>X45</th>\n",
              "      <td>X45</td>\n",
              "      <td>4.946435</td>\n",
              "    </tr>\n",
              "    <tr>\n",
              "      <th>...</th>\n",
              "      <td>...</td>\n",
              "      <td>...</td>\n",
              "    </tr>\n",
              "    <tr>\n",
              "      <th>X59</th>\n",
              "      <td>X59</td>\n",
              "      <td>0.016127</td>\n",
              "    </tr>\n",
              "    <tr>\n",
              "      <th>X55</th>\n",
              "      <td>X55</td>\n",
              "      <td>0.002304</td>\n",
              "    </tr>\n",
              "    <tr>\n",
              "      <th>Y</th>\n",
              "      <td>Y</td>\n",
              "      <td>0.000000</td>\n",
              "    </tr>\n",
              "    <tr>\n",
              "      <th>year</th>\n",
              "      <td>year</td>\n",
              "      <td>0.000000</td>\n",
              "    </tr>\n",
              "    <tr>\n",
              "      <th>bankruptcy_after_years</th>\n",
              "      <td>bankruptcy_after_years</td>\n",
              "      <td>0.000000</td>\n",
              "    </tr>\n",
              "  </tbody>\n",
              "</table>\n",
              "<p>67 rows × 2 columns</p>\n",
              "</div>\n",
              "      <button class=\"colab-df-convert\" onclick=\"convertToInteractive('df-833faef8-96b3-4d10-ba3d-ba3ead6758af')\"\n",
              "              title=\"Convert this dataframe to an interactive table.\"\n",
              "              style=\"display:none;\">\n",
              "        \n",
              "  <svg xmlns=\"http://www.w3.org/2000/svg\" height=\"24px\"viewBox=\"0 0 24 24\"\n",
              "       width=\"24px\">\n",
              "    <path d=\"M0 0h24v24H0V0z\" fill=\"none\"/>\n",
              "    <path d=\"M18.56 5.44l.94 2.06.94-2.06 2.06-.94-2.06-.94-.94-2.06-.94 2.06-2.06.94zm-11 1L8.5 8.5l.94-2.06 2.06-.94-2.06-.94L8.5 2.5l-.94 2.06-2.06.94zm10 10l.94 2.06.94-2.06 2.06-.94-2.06-.94-.94-2.06-.94 2.06-2.06.94z\"/><path d=\"M17.41 7.96l-1.37-1.37c-.4-.4-.92-.59-1.43-.59-.52 0-1.04.2-1.43.59L10.3 9.45l-7.72 7.72c-.78.78-.78 2.05 0 2.83L4 21.41c.39.39.9.59 1.41.59.51 0 1.02-.2 1.41-.59l7.78-7.78 2.81-2.81c.8-.78.8-2.07 0-2.86zM5.41 20L4 18.59l7.72-7.72 1.47 1.35L5.41 20z\"/>\n",
              "  </svg>\n",
              "      </button>\n",
              "      \n",
              "  <style>\n",
              "    .colab-df-container {\n",
              "      display:flex;\n",
              "      flex-wrap:wrap;\n",
              "      gap: 12px;\n",
              "    }\n",
              "\n",
              "    .colab-df-convert {\n",
              "      background-color: #E8F0FE;\n",
              "      border: none;\n",
              "      border-radius: 50%;\n",
              "      cursor: pointer;\n",
              "      display: none;\n",
              "      fill: #1967D2;\n",
              "      height: 32px;\n",
              "      padding: 0 0 0 0;\n",
              "      width: 32px;\n",
              "    }\n",
              "\n",
              "    .colab-df-convert:hover {\n",
              "      background-color: #E2EBFA;\n",
              "      box-shadow: 0px 1px 2px rgba(60, 64, 67, 0.3), 0px 1px 3px 1px rgba(60, 64, 67, 0.15);\n",
              "      fill: #174EA6;\n",
              "    }\n",
              "\n",
              "    [theme=dark] .colab-df-convert {\n",
              "      background-color: #3B4455;\n",
              "      fill: #D2E3FC;\n",
              "    }\n",
              "\n",
              "    [theme=dark] .colab-df-convert:hover {\n",
              "      background-color: #434B5C;\n",
              "      box-shadow: 0px 1px 3px 1px rgba(0, 0, 0, 0.15);\n",
              "      filter: drop-shadow(0px 1px 2px rgba(0, 0, 0, 0.3));\n",
              "      fill: #FFFFFF;\n",
              "    }\n",
              "  </style>\n",
              "\n",
              "      <script>\n",
              "        const buttonEl =\n",
              "          document.querySelector('#df-833faef8-96b3-4d10-ba3d-ba3ead6758af button.colab-df-convert');\n",
              "        buttonEl.style.display =\n",
              "          google.colab.kernel.accessAllowed ? 'block' : 'none';\n",
              "\n",
              "        async function convertToInteractive(key) {\n",
              "          const element = document.querySelector('#df-833faef8-96b3-4d10-ba3d-ba3ead6758af');\n",
              "          const dataTable =\n",
              "            await google.colab.kernel.invokeFunction('convertToInteractive',\n",
              "                                                     [key], {});\n",
              "          if (!dataTable) return;\n",
              "\n",
              "          const docLinkHtml = 'Like what you see? Visit the ' +\n",
              "            '<a target=\"_blank\" href=https://colab.research.google.com/notebooks/data_table.ipynb>data table notebook</a>'\n",
              "            + ' to learn more about interactive tables.';\n",
              "          element.innerHTML = '';\n",
              "          dataTable['output_type'] = 'display_data';\n",
              "          await google.colab.output.renderOutput(dataTable, element);\n",
              "          const docLink = document.createElement('div');\n",
              "          docLink.innerHTML = docLinkHtml;\n",
              "          element.appendChild(docLink);\n",
              "        }\n",
              "      </script>\n",
              "    </div>\n",
              "  </div>\n",
              "  "
            ]
          },
          "metadata": {},
          "execution_count": 10
        }
      ]
    },
    {
      "cell_type": "markdown",
      "source": [
        "- X37 (current assets - inventories) / long-term liabilities ~ 43.74%\n",
        "- X21 sales (n) / sales (n-1) ~ 13.48%"
      ],
      "metadata": {
        "id": "wvAnChUBHmA3"
      }
    },
    {
      "cell_type": "code",
      "source": [
        "def draw_pie_chart(df, fre):\n",
        "    labels = df[fre].astype('category').cat.categories.tolist()\n",
        "    counts = df[fre].value_counts()\n",
        "    sizes = [counts[var_cat] for var_cat in labels]\n",
        "    fig1, ax1 = plt.subplots()\n",
        "    ax1.pie(sizes, labels=labels, autopct='%1.1f%%', shadow=True)\n",
        "    ax1.axis('equal')\n",
        "    plt.show()\n",
        "\n",
        "draw_pie_chart(df, 'Y')"
      ],
      "metadata": {
        "colab": {
          "base_uri": "https://localhost:8080/",
          "height": 248
        },
        "id": "fBynUq7YHaVN",
        "outputId": "02d523e9-a1c5-42fa-9c12-ad732fe3ccd8"
      },
      "execution_count": 11,
      "outputs": [
        {
          "output_type": "display_data",
          "data": {
            "text/plain": [
              "<Figure size 432x288 with 1 Axes>"
            ],
            "image/png": "[encoded data removed]"
          },
          "metadata": {}
        }
      ]
    },
    {
      "cell_type": "markdown",
      "source": [
        "Bankrupcy Pie chart"
      ],
      "metadata": {
        "id": "aL8gRIYZJlsE"
      }
    },
    {
      "cell_type": "code",
      "source": [
        "draw_pie_chart(df[df['Y'] > 0], 'bankruptcy_after_years')"
      ],
      "metadata": {
        "colab": {
          "base_uri": "https://localhost:8080/",
          "height": 250
        },
        "id": "kzhYR_pNH1wr",
        "outputId": "2b0357f1-1e38-4523-b1ca-8f2c03cc1ce7"
      },
      "execution_count": 12,
      "outputs": [
        {
          "output_type": "display_data",
          "data": {
            "text/plain": [
              "<Figure size 432x288 with 1 Axes>"
            ],
            "image/png": "[encoded data removed]"
          },
          "metadata": {}
        }
      ]
    },
    {
      "cell_type": "markdown",
      "source": [
        "Distrubution of bankrupcy with in 1 to 5 years"
      ],
      "metadata": {
        "id": "ldK5TbCiJ0UK"
      }
    },
    {
      "cell_type": "markdown",
      "source": [
        "4,9% are bankrupted firms, where the close to half of them were bankrupted after first 2 years."
      ],
      "metadata": {
        "id": "D2W9NkUlIjIn"
      }
    },
    {
      "cell_type": "code",
      "source": [
        "import scipy.stats\n",
        "\n",
        "scipy.stats.anderson(df['Y'], dist='norm')"
      ],
      "metadata": {
        "colab": {
          "base_uri": "https://localhost:8080/"
        },
        "id": "rcsG9ci_KF1m",
        "outputId": "abe34da6-7fb8-4585-8816-ccdd4c2e5100"
      },
      "execution_count": 13,
      "outputs": [
        {
          "output_type": "execute_result",
          "data": {
            "text/plain": [
              "AndersonResult(statistic=15724.883912907906, critical_values=array([0.576, 0.656, 0.787, 0.918, 1.092]), significance_level=array([15. , 10. ,  5. ,  2.5,  1. ]))"
            ]
          },
          "metadata": {},
          "execution_count": 13
        }
      ]
    },
    {
      "cell_type": "code",
      "source": [
        "def plot_correlation(data, method):\n",
        "    fig, ax = plt.subplots(figsize=(10, 10))\n",
        "    sns.set(font_scale=2)\n",
        "    correlation_matrix = data.corr(method=method, min_periods=1)\n",
        "    sns.heatmap(correlation_matrix, ax=ax, cmap=\"plasma\", fmt=\"d\")\n",
        "    ax.set_ylabel('', fontsize=1)\n",
        "    ax.set_xlabel('', fontsize=1)\n",
        "    plt.show()\n",
        "\n",
        "plot_correlation(df[df.columns.difference(['Y', 'bankruptcy_after_years'])], 'kendall')"
      ],
      "metadata": {
        "colab": {
          "base_uri": "https://localhost:8080/",
          "height": 612
        },
        "id": "XVi5W9mcL9iX",
        "outputId": "0781342d-fc7a-47de-f5aa-63f7e7746fad"
      },
      "execution_count": 14,
      "outputs": [
        {
          "output_type": "display_data",
          "data": {
            "text/plain": [
              "<Figure size 720x720 with 2 Axes>"
            ],
            "image/png": "[encoded data removed]"
          },
          "metadata": {
            "needs_background": "light"
          }
        }
      ]
    },
    {
      "cell_type": "markdown",
      "source": [
        "There is a lot of features with too high correlation and some features with strongly negative correlation values."
      ],
      "metadata": {
        "id": "1KFOWSgrMk8M"
      }
    },
    {
      "cell_type": "markdown",
      "source": [
        "\n",
        "##### excluding pairs of 2 same attributes:"
      ],
      "metadata": {
        "id": "h-TPX5iJMzWd"
      }
    },
    {
      "cell_type": "code",
      "source": [
        "import itertools\n",
        "def corrank(matrix):        \n",
        "    return pd.DataFrame([[(i,j),matrix.loc[i,j]] for i,j in list(itertools.combinations(matrix, 2))], columns=['pairs','corr'])"
      ],
      "metadata": {
        "id": "yMFlAKN3MPuE"
      },
      "execution_count": 15,
      "outputs": []
    },
    {
      "cell_type": "markdown",
      "source": [
        "Features to keep should be in range [-0.8, 0.8] based on Kendall coefficient values:\n",
        "*   remove the futures not with in the range\n",
        "\n",
        "\n",
        "\n",
        "\n",
        "\n"
      ],
      "metadata": {
        "id": "iFdSNGc2NpRo"
      }
    },
    {
      "cell_type": "code",
      "source": [
        "def drop_lin_correlated(df_in, method):\n",
        "    lower_bound = -0.8\n",
        "    upper_bound = 0.8\n",
        "    corr_matrix = df_in.corr(method=method, min_periods=1).abs()\n",
        "    # the matrix is symmetric so we need to extract upper triangle matrix without diagonal (k = 1)\n",
        "    upper = corr_matrix.where(np.triu(np.ones(corr_matrix.shape), k=1).astype(np.bool))\n",
        "\n",
        "    # Find indices of feature columns with correlation greater than 0.80\n",
        "    features_above_max = [column for column in upper.columns if any(upper[column] > upper_bound)]\n",
        "    # Find indices of feature columns with correlation less than -0.8\n",
        "    features_below_min = [column for column in upper.columns if any(upper[column] < lower_bound)]\n",
        "    features_to_drop = features_above_max + features_below_min\n",
        "    df_out = df_in.drop(features_to_drop, axis=1)\n",
        "\n",
        "    return df_out\n",
        "filtered_out_features = drop_lin_correlated(df[df.columns.difference(['Y', 'bankruptcy_after_years'])], method=\"kendall\")\n",
        "filtered_out_features.columns.values"
      ],
      "metadata": {
        "colab": {
          "base_uri": "https://localhost:8080/"
        },
        "id": "yNfa-rDDNWUF",
        "outputId": "17fcf0dd-d9f9-4af4-b09b-a2c424c76514"
      },
      "execution_count": 16,
      "outputs": [
        {
          "output_type": "execute_result",
          "data": {
            "text/plain": [
              "array(['X1', 'X10', 'X12', 'X13', 'X15', 'X16', 'X19', 'X20', 'X21',\n",
              "       'X22', 'X24', 'X25', 'X27', 'X28', 'X29', 'X30', 'X32', 'X34',\n",
              "       'X36', 'X37', 'X38', 'X39', 'X4', 'X40', 'X41', 'X43', 'X44',\n",
              "       'X45', 'X46', 'X5', 'X50', 'X55', 'X56', 'X57', 'X59', 'X6', 'X64',\n",
              "       'X9', 'year'], dtype=object)"
            ]
          },
          "metadata": {},
          "execution_count": 16
        }
      ]
    },
    {
      "cell_type": "code",
      "source": [
        "corr_matrix_filtered = filtered_out_features.corr(method=\"kendall\")\n",
        "corr_matrix_filtered = corrank(corr_matrix_filtered)\n",
        "print(corr_matrix_filtered.sort_values(by='corr',ascending=False))"
      ],
      "metadata": {
        "colab": {
          "base_uri": "https://localhost:8080/"
        },
        "id": "wwMC3y1cy0HX",
        "outputId": "e574a72a-91c2-439c-b14f-091bb3c49818"
      },
      "execution_count": 17,
      "outputs": [
        {
          "output_type": "stream",
          "name": "stdout",
          "text": [
            "          pairs      corr\n",
            "78   (X12, X19)  0.782878\n",
            "77   (X12, X16)  0.773059\n",
            "1     (X1, X12)  0.766384\n",
            "113  (X13, X19)  0.761412\n",
            "5     (X1, X19)  0.760294\n",
            "..          ...       ...\n",
            "471   (X30, X4) -0.505131\n",
            "477  (X30, X46) -0.517980\n",
            "51   (X10, X30) -0.531728\n",
            "565  (X37, X59) -0.564860\n",
            "479  (X30, X50) -0.621172\n",
            "\n",
            "[741 rows x 2 columns]\n"
          ]
        }
      ]
    },
    {
      "cell_type": "markdown",
      "source": [
        "Features found as intersection of all 3 sets:\n",
        "- X12 gross profit / short-term liabilities\n",
        "- X16 (gross profit + depreciation) / total liabilities\n",
        "- X22 profit on operating activities / total assets\n",
        "- X39 (profit on sales / sales) feature\n",
        "- X57\t(current assets - inventory - short-term liabilities) / (sales - gross profit - depreciation) "
      ],
      "metadata": {
        "id": "Mc6py4R9lML8"
      }
    },
    {
      "cell_type": "code",
      "source": [
        "import gc\n",
        "\n",
        "imp = SimpleImputer(missing_values=np.nan, strategy='mean')\n",
        "imp_data = imp.fit_transform(df)\n",
        "imp_data_df = pd.DataFrame(imp_data, index=df.index, columns=df.columns)\n",
        "\n",
        "X = imp_data_df[['X1', 'X10', 'X12', 'X13', 'X15', 'X16', 'X19', 'X20','X22', 'X24', 'X25', 'X27', 'X28', 'X29', 'X30', 'X32', 'X34','X36', 'X38', 'X39', 'X4', 'X40', 'X41', 'X43', 'X44','X45', 'X46', 'X5', 'X50', 'X55', 'X56', 'X57', 'X59', 'X6', 'X64','X9']]\n",
        "y =  imp_data_df.Y\n",
        "\n",
        "del imp_data, imp_data_df\n",
        "gc.collect()"
      ],
      "metadata": {
        "id": "VoIt6qSClm5w",
        "colab": {
          "base_uri": "https://localhost:8080/"
        },
        "outputId": "4c45d699-ac7f-41e2-a742-a33f7a10ebe7"
      },
      "execution_count": 18,
      "outputs": [
        {
          "output_type": "execute_result",
          "data": {
            "text/plain": [
              "11875"
            ]
          },
          "metadata": {},
          "execution_count": 18
        }
      ]
    },
    {
      "cell_type": "code",
      "source": [
        "# Classifiers for the dataset\n",
        "\n",
        "# K-Fold Cross Validation\n",
        "def kfold_cv(k, X, y, verbose=False):\n",
        "    X = X.values  # Features\n",
        "    y = y.values  # Labels\n",
        "    kf = KFold(n_splits=k, shuffle=True, random_state=42)\n",
        "    X_train = []\n",
        "    y_train = []\n",
        "    X_test = []\n",
        "    y_test = []\n",
        "\n",
        "    for train_index, test_index in kf.split(X):\n",
        "        X_train.append(X[train_index])\n",
        "        y_train.append(y[train_index])\n",
        "        X_test.append(X[test_index])\n",
        "        y_test.append(y[test_index])\n",
        "    return X_train, y_train, X_test, y_test"
      ],
      "metadata": {
        "id": "mtkC3xnp4ya1"
      },
      "execution_count": 19,
      "outputs": []
    },
    {
      "cell_type": "code",
      "source": [
        "# Bagging Classifier\n",
        "bagging = BaggingClassifier(base_estimator=DecisionTreeClassifier(random_state=7), n_estimators=5, random_state=7)\n"
      ],
      "metadata": {
        "id": "PTeUpnx8404K"
      },
      "execution_count": 20,
      "outputs": []
    },
    {
      "cell_type": "code",
      "source": [
        "# Building dictionary to enable calling the following classifiers and save their results as values\n",
        "models_dictionary = OrderedDict()\n",
        "\n",
        "models_dictionary['Bagging Tree'] = bagging"
      ],
      "metadata": {
        "id": "SnQrmup143Aq"
      },
      "execution_count": 21,
      "outputs": []
    },
    {
      "cell_type": "code",
      "source": [
        "def data_modeling(_models_, X,y , verbose=False, k_folds=5):\n",
        "    # 7 metrics, averaged over all the K-Folds\n",
        "    model_results = OrderedDict()\n",
        "\n",
        "    # Iterate over classifiers\n",
        "    for model_name, clf in _models_.items():\n",
        "        if verbose: print( \"Model: \" + '\\033[1m' + model_name)\n",
        "        imputer_results = OrderedDict()\n",
        "        X ,y = X, y\n",
        "        # Running K-fold cross validation on train and test set\n",
        "        X_train_list, y_train_list, X_test_list, y_test_list = kfold_cv(k_folds, X,\n",
        "                                                                        y, verbose)\n",
        "\n",
        "        metrics = OrderedDict()\n",
        "\n",
        "        # Calculating accuracy, precision, recall, and confusion matrix\n",
        "        # Initializing these variables with a numpy array of 0\n",
        "        accuracy_list = np.zeros([k_folds])\n",
        "        precision_list = np.zeros([k_folds, 2])\n",
        "        recall_list = np.zeros([k_folds, 2])\n",
        "        true_negs = np.zeros([k_folds])\n",
        "        false_pos = np.zeros([k_folds])\n",
        "        false_negs = np.zeros([k_folds])\n",
        "        true_pos = np.zeros([k_folds])\n",
        "\n",
        "        # Iterate over all the k-folds and calculate accuracy, precision and confusion matrix\n",
        "        for k in range(k_folds):\n",
        "            X_train = X_train_list[k]\n",
        "            y_train = y_train_list[k]\n",
        "            X_test = X_test_list[k]\n",
        "            y_test = y_test_list[k]\n",
        "\n",
        "            # Fit the model and call predict function for test set\n",
        "            clf = clf.fit(X_train, y_train)\n",
        "\n",
        "            y_test_predicted = clf.predict(X_test)\n",
        "            print(confusion_matrix(y_test_predicted, y_test))\n",
        "\n",
        "            _accuracy_ = accuracy_score(y_test, y_test_predicted, normalize=True)\n",
        "            accuracy_list[k] = _accuracy_\n",
        "            _recalls_ = recall_score(y_test, y_test_predicted, average=None)\n",
        "            recall_list[k] = _recalls_\n",
        "\n",
        "            # code for calculating precision\n",
        "            _precisions_ = precision_score(y_test, y_test_predicted, average=None)\n",
        "            precision_list[k] = _precisions_\n",
        "\n",
        "            # code for calculating confusion matrix\n",
        "            _confusion_matrix_ = confusion_matrix(y_test, y_test_predicted)\n",
        "            mlp_cm = confusion_matrix(y_test, y_test_predicted)\n",
        "\n",
        "            true_negs[k] = _confusion_matrix_[0][0]\n",
        "            false_pos[k] = _confusion_matrix_[0][1]\n",
        "            false_negs[k] = _confusion_matrix_[1][0]\n",
        "            true_pos[k] = _confusion_matrix_[1][1]\n",
        "\n",
        "        metrics['Accuracy'] = np.mean(accuracy_list)\n",
        "        metrics['Precisions'] = np.mean(precision_list, axis=0)\n",
        "        metrics['Recalls'] = np.mean(recall_list, axis=0)\n",
        "        metrics['TN'] = np.mean(true_negs)\n",
        "        metrics['FP'] = np.mean(false_pos)\n",
        "        metrics['FN'] = np.mean(false_negs)\n",
        "        metrics['TP'] = np.mean(true_pos)\n",
        "\n",
        "        if verbose:\n",
        "            print('\\t\\t\\tAccuracy:', metrics['Accuracy'])\n",
        "            print('\\t\\t\\tPrecision:', metrics['Precisions'])\n",
        "            print('\\t\\t\\tRecall:', metrics['Recalls'])\n",
        "    sns.heatmap(mlp_cm ,\n",
        "            xticklabels=['Non Bankrupt', 'Bankrupt'],\n",
        "            yticklabels=['Non Bankrupt', 'Bankrupt'])\n",
        "    plt.xlabel('Predicted')\n",
        "    plt.ylabel('True')\n",
        "    plt.show()\n",
        "\n",
        "    return model_results\n",
        "\n",
        "# ideally 5 fold cross validation yielded better results\n",
        "results = data_modeling(models_dictionary, X,y, verbose=True, k_folds=5)"
      ],
      "metadata": {
        "colab": {
          "base_uri": "https://localhost:8080/",
          "height": 565
        },
        "id": "V9NYX73v45Lj",
        "outputId": "87b21910-976e-4e1b-b4eb-62e8f5b2d132"
      },
      "execution_count": 22,
      "outputs": [
        {
          "output_type": "stream",
          "name": "stdout",
          "text": [
            "Model: \u001b[1mBagging Tree\n",
            "[[8190  238]\n",
            " [  50  203]]\n",
            "[[8205  197]\n",
            " [  61  218]]\n",
            "[[8234  182]\n",
            " [  69  196]]\n",
            "[[8186  231]\n",
            " [  59  205]]\n",
            "[[8208  211]\n",
            " [  52  210]]\n",
            "\t\t\tAccuracy: 0.968897592443267\n",
            "\t\t\tPrecision: [0.97483634 0.78027961]\n",
            "\t\t\tRecall: [0.99295818 0.4946266 ]\n"
          ]
        },
        {
          "output_type": "display_data",
          "data": {
            "text/plain": [
              "<Figure size 432x288 with 2 Axes>"
            ],
            "image/png": "[encoded data removed]"
          },
          "metadata": {}
        }
      ]
    },
    {
      "cell_type": "code",
      "source": [
        "def plot_all_classes_distribution(df):\n",
        "    plt.figure(figsize=(16, 8))\n",
        "    count = df['bankruptcy_after_years'].value_counts()\n",
        "    sns.set(style=\"darkgrid\")\n",
        "    sns.barplot(count.index, count.values, alpha=0.9)\n",
        "    plt.title('Frequency Distribution of Bankrupted Companies', fontsize=20)\n",
        "    plt.ylabel('Number of Occurrences', fontsize=15)\n",
        "    plt.xlabel('Amount of years after the firm got bankrupted', fontsize=15)\n",
        "    plt.show()\n",
        "plot_all_classes_distribution(df)"
      ],
      "metadata": {
        "id": "hH_b4TeZ754b",
        "colab": {
          "base_uri": "https://localhost:8080/",
          "height": 525
        },
        "outputId": "672312c5-a533-418f-a5ad-a2672024a148"
      },
      "execution_count": 35,
      "outputs": [
        {
          "output_type": "display_data",
          "data": {
            "text/plain": [
              "<Figure size 1152x576 with 1 Axes>"
            ],
            "image/png": "[encoded data removed]"
          },
          "metadata": {}
        }
      ]
    },
    {
      "cell_type": "code",
      "source": [
        ""
      ],
      "metadata": {
        "id": "gSYPw1tn_qox"
      },
      "execution_count": null,
      "outputs": []
    }
  ]
}